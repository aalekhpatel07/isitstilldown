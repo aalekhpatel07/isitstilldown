{
 "cells": [
  {
   "cell_type": "code",
   "execution_count": 2,
   "id": "35706712",
   "metadata": {},
   "outputs": [],
   "source": [
    "import numpy as np\n",
    "import pandas as pd\n",
    "from matplotlib import pyplot as plt\n",
    "from collections import Counter"
   ]
  },
  {
   "cell_type": "code",
   "execution_count": 37,
   "id": "99c922b3",
   "metadata": {},
   "outputs": [
    {
     "name": "stdout",
     "output_type": "stream",
     "text": [
      "  % Total    % Received % Xferd  Average Speed   Time    Time     Time  Current\n",
      "                                 Dload  Upload   Total   Spent    Left  Speed\n",
      "100  112M  100  112M    0     0  15.0M      0  0:00:07  0:00:07 --:--:-- 18.7M\n",
      "Archive:  ./top10milliondomains.zip\n",
      "  inflating: top10milliondomains.csv  \n"
     ]
    }
   ],
   "source": [
    "# Download the csv file.\n",
    "!curl https://www.domcop.com/files/top/top10milliondomains.csv.zip -o ./top10milliondomains.zip && unzip ./top10milliondomains.zip && rm ./top10milliondomains.zip"
   ]
  },
  {
   "cell_type": "code",
   "execution_count": 3,
   "id": "6ea4d137",
   "metadata": {},
   "outputs": [],
   "source": [
    "FILE = './top10milliondomains.csv'"
   ]
  },
  {
   "cell_type": "code",
   "execution_count": 4,
   "id": "b4b5b402",
   "metadata": {},
   "outputs": [],
   "source": [
    "df = pd.read_csv(FILE)"
   ]
  },
  {
   "cell_type": "code",
   "execution_count": 5,
   "id": "5ede07de",
   "metadata": {},
   "outputs": [
    {
     "data": {
      "text/html": [
       "<div>\n",
       "<style scoped>\n",
       "    .dataframe tbody tr th:only-of-type {\n",
       "        vertical-align: middle;\n",
       "    }\n",
       "\n",
       "    .dataframe tbody tr th {\n",
       "        vertical-align: top;\n",
       "    }\n",
       "\n",
       "    .dataframe thead th {\n",
       "        text-align: right;\n",
       "    }\n",
       "</style>\n",
       "<table border=\"1\" class=\"dataframe\">\n",
       "  <thead>\n",
       "    <tr style=\"text-align: right;\">\n",
       "      <th></th>\n",
       "      <th>Rank</th>\n",
       "      <th>Domain</th>\n",
       "      <th>Open Page Rank</th>\n",
       "    </tr>\n",
       "  </thead>\n",
       "  <tbody>\n",
       "    <tr>\n",
       "      <th>0</th>\n",
       "      <td>1</td>\n",
       "      <td>facebook.com</td>\n",
       "      <td>10.0</td>\n",
       "    </tr>\n",
       "    <tr>\n",
       "      <th>1</th>\n",
       "      <td>2</td>\n",
       "      <td>fonts.googleapis.com</td>\n",
       "      <td>10.0</td>\n",
       "    </tr>\n",
       "    <tr>\n",
       "      <th>2</th>\n",
       "      <td>3</td>\n",
       "      <td>twitter.com</td>\n",
       "      <td>10.0</td>\n",
       "    </tr>\n",
       "    <tr>\n",
       "      <th>3</th>\n",
       "      <td>4</td>\n",
       "      <td>google.com</td>\n",
       "      <td>10.0</td>\n",
       "    </tr>\n",
       "    <tr>\n",
       "      <th>4</th>\n",
       "      <td>5</td>\n",
       "      <td>youtube.com</td>\n",
       "      <td>10.0</td>\n",
       "    </tr>\n",
       "    <tr>\n",
       "      <th>5</th>\n",
       "      <td>6</td>\n",
       "      <td>s.w.org</td>\n",
       "      <td>10.0</td>\n",
       "    </tr>\n",
       "    <tr>\n",
       "      <th>6</th>\n",
       "      <td>7</td>\n",
       "      <td>instagram.com</td>\n",
       "      <td>10.0</td>\n",
       "    </tr>\n",
       "    <tr>\n",
       "      <th>7</th>\n",
       "      <td>8</td>\n",
       "      <td>googletagmanager.com</td>\n",
       "      <td>10.0</td>\n",
       "    </tr>\n",
       "    <tr>\n",
       "      <th>8</th>\n",
       "      <td>9</td>\n",
       "      <td>linkedin.com</td>\n",
       "      <td>10.0</td>\n",
       "    </tr>\n",
       "    <tr>\n",
       "      <th>9</th>\n",
       "      <td>10</td>\n",
       "      <td>ajax.googleapis.com</td>\n",
       "      <td>10.0</td>\n",
       "    </tr>\n",
       "  </tbody>\n",
       "</table>\n",
       "</div>"
      ],
      "text/plain": [
       "   Rank                Domain  Open Page Rank\n",
       "0     1          facebook.com            10.0\n",
       "1     2  fonts.googleapis.com            10.0\n",
       "2     3           twitter.com            10.0\n",
       "3     4            google.com            10.0\n",
       "4     5           youtube.com            10.0\n",
       "5     6               s.w.org            10.0\n",
       "6     7         instagram.com            10.0\n",
       "7     8  googletagmanager.com            10.0\n",
       "8     9          linkedin.com            10.0\n",
       "9    10   ajax.googleapis.com            10.0"
      ]
     },
     "execution_count": 5,
     "metadata": {},
     "output_type": "execute_result"
    }
   ],
   "source": [
    "df.head(10)"
   ]
  },
  {
   "cell_type": "markdown",
   "id": "2d19cd91",
   "metadata": {},
   "source": [
    "## Clean up"
   ]
  },
  {
   "cell_type": "markdown",
   "id": "41354435",
   "metadata": {},
   "source": [
    "Find out the unique domain names."
   ]
  },
  {
   "cell_type": "code",
   "execution_count": 6,
   "id": "0853ed33",
   "metadata": {},
   "outputs": [],
   "source": [
    "def extract_domain(s):\n",
    "    return '.'.join(s.split('.')[-2:])"
   ]
  },
  {
   "cell_type": "code",
   "execution_count": 7,
   "id": "a0f8aa49",
   "metadata": {},
   "outputs": [],
   "source": [
    "df['Domain_Clean'] = df['Domain'].apply(extract_domain)"
   ]
  },
  {
   "cell_type": "code",
   "execution_count": 8,
   "id": "afec0bbf",
   "metadata": {},
   "outputs": [
    {
     "data": {
      "text/html": [
       "<div>\n",
       "<style scoped>\n",
       "    .dataframe tbody tr th:only-of-type {\n",
       "        vertical-align: middle;\n",
       "    }\n",
       "\n",
       "    .dataframe tbody tr th {\n",
       "        vertical-align: top;\n",
       "    }\n",
       "\n",
       "    .dataframe thead th {\n",
       "        text-align: right;\n",
       "    }\n",
       "</style>\n",
       "<table border=\"1\" class=\"dataframe\">\n",
       "  <thead>\n",
       "    <tr style=\"text-align: right;\">\n",
       "      <th></th>\n",
       "      <th>Rank</th>\n",
       "      <th>Domain</th>\n",
       "      <th>Open Page Rank</th>\n",
       "      <th>Domain_Clean</th>\n",
       "    </tr>\n",
       "  </thead>\n",
       "  <tbody>\n",
       "    <tr>\n",
       "      <th>0</th>\n",
       "      <td>1</td>\n",
       "      <td>facebook.com</td>\n",
       "      <td>10.00</td>\n",
       "      <td>facebook.com</td>\n",
       "    </tr>\n",
       "    <tr>\n",
       "      <th>1</th>\n",
       "      <td>2</td>\n",
       "      <td>fonts.googleapis.com</td>\n",
       "      <td>10.00</td>\n",
       "      <td>googleapis.com</td>\n",
       "    </tr>\n",
       "    <tr>\n",
       "      <th>2</th>\n",
       "      <td>3</td>\n",
       "      <td>twitter.com</td>\n",
       "      <td>10.00</td>\n",
       "      <td>twitter.com</td>\n",
       "    </tr>\n",
       "    <tr>\n",
       "      <th>3</th>\n",
       "      <td>4</td>\n",
       "      <td>google.com</td>\n",
       "      <td>10.00</td>\n",
       "      <td>google.com</td>\n",
       "    </tr>\n",
       "    <tr>\n",
       "      <th>4</th>\n",
       "      <td>5</td>\n",
       "      <td>youtube.com</td>\n",
       "      <td>10.00</td>\n",
       "      <td>youtube.com</td>\n",
       "    </tr>\n",
       "    <tr>\n",
       "      <th>...</th>\n",
       "      <td>...</td>\n",
       "      <td>...</td>\n",
       "      <td>...</td>\n",
       "      <td>...</td>\n",
       "    </tr>\n",
       "    <tr>\n",
       "      <th>9999995</th>\n",
       "      <td>9999996</td>\n",
       "      <td>art.robertcanaga.com</td>\n",
       "      <td>2.44</td>\n",
       "      <td>robertcanaga.com</td>\n",
       "    </tr>\n",
       "    <tr>\n",
       "      <th>9999996</th>\n",
       "      <td>9999997</td>\n",
       "      <td>weisseubanks.com</td>\n",
       "      <td>2.44</td>\n",
       "      <td>weisseubanks.com</td>\n",
       "    </tr>\n",
       "    <tr>\n",
       "      <th>9999997</th>\n",
       "      <td>9999998</td>\n",
       "      <td>broncobytes.boisestate.edu</td>\n",
       "      <td>2.44</td>\n",
       "      <td>boisestate.edu</td>\n",
       "    </tr>\n",
       "    <tr>\n",
       "      <th>9999998</th>\n",
       "      <td>9999999</td>\n",
       "      <td>forshagaakademin.se</td>\n",
       "      <td>2.44</td>\n",
       "      <td>forshagaakademin.se</td>\n",
       "    </tr>\n",
       "    <tr>\n",
       "      <th>9999999</th>\n",
       "      <td>10000000</td>\n",
       "      <td>markesan.k12.wi.us</td>\n",
       "      <td>2.44</td>\n",
       "      <td>wi.us</td>\n",
       "    </tr>\n",
       "  </tbody>\n",
       "</table>\n",
       "<p>10000000 rows × 4 columns</p>\n",
       "</div>"
      ],
      "text/plain": [
       "             Rank                      Domain  Open Page Rank  \\\n",
       "0               1                facebook.com           10.00   \n",
       "1               2        fonts.googleapis.com           10.00   \n",
       "2               3                 twitter.com           10.00   \n",
       "3               4                  google.com           10.00   \n",
       "4               5                 youtube.com           10.00   \n",
       "...           ...                         ...             ...   \n",
       "9999995   9999996        art.robertcanaga.com            2.44   \n",
       "9999996   9999997            weisseubanks.com            2.44   \n",
       "9999997   9999998  broncobytes.boisestate.edu            2.44   \n",
       "9999998   9999999         forshagaakademin.se            2.44   \n",
       "9999999  10000000          markesan.k12.wi.us            2.44   \n",
       "\n",
       "                Domain_Clean  \n",
       "0               facebook.com  \n",
       "1             googleapis.com  \n",
       "2                twitter.com  \n",
       "3                 google.com  \n",
       "4                youtube.com  \n",
       "...                      ...  \n",
       "9999995     robertcanaga.com  \n",
       "9999996     weisseubanks.com  \n",
       "9999997       boisestate.edu  \n",
       "9999998  forshagaakademin.se  \n",
       "9999999                wi.us  \n",
       "\n",
       "[10000000 rows x 4 columns]"
      ]
     },
     "execution_count": 8,
     "metadata": {},
     "output_type": "execute_result"
    }
   ],
   "source": [
    "df"
   ]
  },
  {
   "cell_type": "code",
   "execution_count": 9,
   "id": "c16a8671",
   "metadata": {},
   "outputs": [],
   "source": [
    "including_subdomains = len(df['Domain'].unique())\n",
    "only_domains = len(df['Domain_Clean'].unique())"
   ]
  },
  {
   "cell_type": "code",
   "execution_count": 10,
   "id": "652cdf11",
   "metadata": {},
   "outputs": [
    {
     "name": "stdout",
     "output_type": "stream",
     "text": [
      "68.93697%\n"
     ]
    }
   ],
   "source": [
    "clean_percentage = only_domains / including_subdomains * 100\n",
    "print(f\"{clean_percentage}%\")"
   ]
  },
  {
   "cell_type": "markdown",
   "id": "bf19f214",
   "metadata": {},
   "source": [
    "Nice. Removing the redundancies got us down to 7M domains to keep a track of."
   ]
  },
  {
   "cell_type": "code",
   "execution_count": 11,
   "id": "cf856000",
   "metadata": {},
   "outputs": [
    {
     "data": {
      "text/plain": [
       "0          10.00\n",
       "1          10.00\n",
       "2          10.00\n",
       "3          10.00\n",
       "4          10.00\n",
       "           ...  \n",
       "9999995     2.44\n",
       "9999996     2.44\n",
       "9999997     2.44\n",
       "9999998     2.44\n",
       "9999999     2.44\n",
       "Name: Open Page Rank, Length: 10000000, dtype: float64"
      ]
     },
     "execution_count": 11,
     "metadata": {},
     "output_type": "execute_result"
    }
   ],
   "source": [
    "df['Open Page Rank']"
   ]
  },
  {
   "cell_type": "code",
   "execution_count": 86,
   "id": "87b4acfb",
   "metadata": {},
   "outputs": [],
   "source": [
    "bins = np.linspace(2, 10.0, endpoint=True, num=10, dtype=np.float64)"
   ]
  },
  {
   "cell_type": "code",
   "execution_count": 87,
   "id": "8d9477fc",
   "metadata": {},
   "outputs": [
    {
     "data": {
      "text/plain": [
       "array([ 2.        ,  2.88888889,  3.77777778,  4.66666667,  5.55555556,\n",
       "        6.44444444,  7.33333333,  8.22222222,  9.11111111, 10.        ])"
      ]
     },
     "execution_count": 87,
     "metadata": {},
     "output_type": "execute_result"
    }
   ],
   "source": [
    "bins"
   ]
  },
  {
   "cell_type": "code",
   "execution_count": 81,
   "id": "7e3bb19e",
   "metadata": {},
   "outputs": [],
   "source": [
    "cumulative_frequencies = [\n",
    "    df[df['Open Page Rank'] <= bins[idx]].count()[0] for idx in range(len(bins))\n",
    "]\n",
    "frequencies = list((x - y) for (x, y) in zip(cumulative_frequencies[1:], cumulative_frequencies[:-1]))"
   ]
  },
  {
   "cell_type": "code",
   "execution_count": 100,
   "id": "5fd63573",
   "metadata": {},
   "outputs": [],
   "source": [
    "x_values = bins[1:]\n",
    "y_values = list(frequencies)"
   ]
  },
  {
   "cell_type": "code",
   "execution_count": 101,
   "id": "256ae7d5",
   "metadata": {},
   "outputs": [
    {
     "name": "stdout",
     "output_type": "stream",
     "text": [
      "[ 2.88888889  3.77777778  4.66666667  5.55555556  6.44444444  7.33333333\n",
      "  8.22222222  9.11111111 10.        ]\n",
      "[5304733, 3581474, 1084624, 26961, 1877, 247, 55, 16, 13]\n"
     ]
    }
   ],
   "source": [
    "print(x_values)\n",
    "print(y_values)"
   ]
  },
  {
   "cell_type": "markdown",
   "id": "f2741a40",
   "metadata": {},
   "source": [
    "### Just how do the Open Page Rank scores of these domains compare within the list?"
   ]
  },
  {
   "cell_type": "code",
   "execution_count": 114,
   "id": "52b8c7b8",
   "metadata": {},
   "outputs": [
    {
     "data": {
      "image/png": "[encoded data removed]",
      "text/plain": [
       "<Figure size 432x288 with 1 Axes>"
      ]
     },
     "metadata": {
      "needs_background": "light"
     },
     "output_type": "display_data"
    }
   ],
   "source": [
    "log_scale_plot = plt.bar(align='edge', x=x_values, height=np.log10(y_values), width=-0.8)\n",
    "plt.legend(['log10-scale count of domains'])\n",
    "plt.show()"
   ]
  },
  {
   "cell_type": "markdown",
   "id": "6de8c1f1",
   "metadata": {},
   "source": [
    "There are significantly more domains (approx $O(10^7)$) with a poor Open Page Rank score (say less than 5) than the good quality ones (score at least 5) which there are only about $O(10^1)$ of.\n",
    "\n",
    "**Suggestion**: Can drop the latter no-good domains if need arises."
   ]
  },
  {
   "cell_type": "code",
   "execution_count": 15,
   "id": "94888b74",
   "metadata": {},
   "outputs": [],
   "source": [
    "page_rank_at_least_3 = df[df['Open Page Rank'] >= 3]"
   ]
  },
  {
   "cell_type": "code",
   "execution_count": 17,
   "id": "40131566",
   "metadata": {},
   "outputs": [],
   "source": [
    "good_top_domains = page_rank_at_least_3['Domain_Clean'].unique()"
   ]
  },
  {
   "cell_type": "code",
   "execution_count": 153,
   "id": "71448249",
   "metadata": {},
   "outputs": [],
   "source": [
    "top_20_domains = df['Domain_Clean'].unique()[:20]"
   ]
  },
  {
   "cell_type": "code",
   "execution_count": 154,
   "id": "8816942f",
   "metadata": {},
   "outputs": [
    {
     "data": {
      "text/plain": [
       "array(['facebook.com', 'googleapis.com', 'twitter.com', 'google.com',\n",
       "       'youtube.com', 'w.org', 'instagram.com', 'googletagmanager.com',\n",
       "       'linkedin.com', 'gmpg.org', 'gstatic.com', 'youtu.be',\n",
       "       'cloudflare.com', 'pinterest.com', 'wikipedia.org',\n",
       "       'wordpress.org', 'bit.ly', 'goo.gl', 'github.com', 'apple.com'],\n",
       "      dtype=object)"
      ]
     },
     "execution_count": 154,
     "metadata": {},
     "output_type": "execute_result"
    }
   ],
   "source": [
    "top_20_domains"
   ]
  },
  {
   "cell_type": "code",
   "execution_count": 18,
   "id": "b6565c34",
   "metadata": {},
   "outputs": [],
   "source": [
    "print(\n",
    "    \"\\n\".join(good_top_domains),\n",
    "    file=open('top_domains_page_rank_at_least_3.txt', 'w')\n",
    ")"
   ]
  },
  {
   "cell_type": "code",
   "execution_count": null,
   "id": "e41ad83d",
   "metadata": {},
   "outputs": [],
   "source": []
  }
 ],
 "metadata": {
  "kernelspec": {
   "display_name": "Python 3 (ipykernel)",
   "language": "python",
   "name": "python3"
  },
  "language_info": {
   "codemirror_mode": {
    "name": "ipython",
    "version": 3
   },
   "file_extension": ".py",
   "mimetype": "text/x-python",
   "name": "python",
   "nbconvert_exporter": "python",
   "pygments_lexer": "ipython3",
   "version": "3.8.10"
  }
 },
 "nbformat": 4,
 "nbformat_minor": 5
}
